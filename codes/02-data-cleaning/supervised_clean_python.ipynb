{
 "cells": [
  {
   "cell_type": "code",
   "execution_count": 1,
   "metadata": {},
   "outputs": [],
   "source": [
    "import pandas as pd\n",
    "data=pd.read_csv(\"../../data/01-modified-data/supervised_data.csv\")"
   ]
  },
  {
   "cell_type": "code",
   "execution_count": 5,
   "metadata": {},
   "outputs": [],
   "source": [
    "# replace the sign with space in tweets\n",
    "data[\"text\"]=data[\"text\"].str.replace(\"@\",\" \")\n",
    "data[\"text\"]=data[\"text\"].str.replace(\"#\",\" \")\n",
    "# replace numbers with labels\n",
    "data[\"label\"]=data[\"label\"].str.replace(\"rumor\",\"0\")\n",
    "data[\"label\"]=data[\"label\"].str.replace(\"truth\",\"1\")"
   ]
  },
  {
   "cell_type": "code",
   "execution_count": 6,
   "metadata": {},
   "outputs": [],
   "source": [
    "data.to_csv(\"../../data/01-modified-data/cleaned_supervised_data.csv\")"
   ]
  },
  {
   "cell_type": "code",
   "execution_count": null,
   "metadata": {},
   "outputs": [],
   "source": []
  }
 ],
 "metadata": {
  "kernelspec": {
   "display_name": "Python 3.10.4 ('ANLY501')",
   "language": "python",
   "name": "python3"
  },
  "language_info": {
   "codemirror_mode": {
    "name": "ipython",
    "version": 3
   },
   "file_extension": ".py",
   "mimetype": "text/x-python",
   "name": "python",
   "nbconvert_exporter": "python",
   "pygments_lexer": "ipython3",
   "version": "3.10.4"
  },
  "orig_nbformat": 4,
  "vscode": {
   "interpreter": {
    "hash": "efe839fab88ae80421cffb56f789661a42a9e93ca30a0c0f003df392ed76a9d1"
   }
  }
 },
 "nbformat": 4,
 "nbformat_minor": 2
}
