{
 "cells": [
  {
   "cell_type": "code",
   "execution_count": 25,
   "metadata": {},
   "outputs": [],
   "source": [
    "import pandas as pd"
   ]
  },
  {
   "cell_type": "code",
   "execution_count": 26,
   "metadata": {},
   "outputs": [],
   "source": [
    "#load the data sets\n",
    "rumor=pd.read_csv(\"../../data/00-raw-data/rumor_manually.csv\", encoding='windows-1252')\n",
    "truth=pd.read_csv(\"../../data/01-modified-data/labeled_truth_R.csv\")\n"
   ]
  },
  {
   "cell_type": "code",
   "execution_count": 27,
   "metadata": {},
   "outputs": [],
   "source": [
    "#drop the useless columns\n",
    "rumor.drop(\"twitter_id\",axis=1,inplace=True)\n",
    "truth.drop(\"...1\",axis=1,inplace=True)"
   ]
  },
  {
   "cell_type": "code",
   "execution_count": 30,
   "metadata": {},
   "outputs": [],
   "source": [
    "#concatenate the two data sets\n",
    "supervised_data=pd.concat([rumor,truth])"
   ]
  },
  {
   "cell_type": "code",
   "execution_count": 32,
   "metadata": {},
   "outputs": [],
   "source": [
    "supervised_data.to_csv(\"../../data/01-modified-data/supervised_data.csv\",index=False)"
   ]
  },
  {
   "cell_type": "code",
   "execution_count": null,
   "metadata": {},
   "outputs": [],
   "source": []
  }
 ],
 "metadata": {
  "kernelspec": {
   "display_name": "Python 3.10.4 ('ANLY501')",
   "language": "python",
   "name": "python3"
  },
  "language_info": {
   "codemirror_mode": {
    "name": "ipython",
    "version": 3
   },
   "file_extension": ".py",
   "mimetype": "text/x-python",
   "name": "python",
   "nbconvert_exporter": "python",
   "pygments_lexer": "ipython3",
   "version": "3.10.4"
  },
  "orig_nbformat": 4,
  "vscode": {
   "interpreter": {
    "hash": "efe839fab88ae80421cffb56f789661a42a9e93ca30a0c0f003df392ed76a9d1"
   }
  }
 },
 "nbformat": 4,
 "nbformat_minor": 2
}
